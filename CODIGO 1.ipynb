{
 "cells": [
  {
   "cell_type": "code",
   "execution_count": 1,
   "metadata": {},
   "outputs": [],
   "source": [
    "from glob import glob\n",
    "import matplotlib.pyplot as plt\n",
    "import pandas as pd\n",
    "import numpy as np\n",
    "import xarray as xr\n",
    "from mpl_toolkits.basemap import Basemap\n",
    "import warnings\n",
    "import matplotlib.cbook\n",
    "warnings.filterwarnings(\"ignore\",category=matplotlib.cbook.mplDeprecation)\n",
    "plt.rcParams['figure.figsize'] = (12,8)\n",
    "import netCDF4\n",
    "import time\n",
    "from progressbar import ProgressBar"
   ]
  },
  {
   "cell_type": "code",
   "execution_count": 145,
   "metadata": {},
   "outputs": [
    {
     "name": "stdout",
     "output_type": "stream",
     "text": [
      "26 arquivos\n"
     ]
    }
   ],
   "source": [
    "flist = []\n",
    "bdir = '/home/bruno/Documents/AnacondaFiles/ECMWF/'\n",
    "for yy in range (1997,1998):\n",
    "    for mm in range(1,13):\n",
    "        mmfl = sorted(glob(bdir + '/' + str(yy) + '/' + str(mm) + '/' + '*.nc'))\n",
    "        for fp in mmfl:\n",
    "            flist.append(fp)\n",
    "print (len(flist), 'arquivos')"
   ]
  },
  {
   "cell_type": "code",
   "execution_count": 129,
   "metadata": {
    "scrolled": false
   },
   "outputs": [
    {
     "name": "stderr",
     "output_type": "stream",
     "text": [
      "100% |########################################################################|\r"
     ]
    }
   ],
   "source": [
    "d = []\n",
    "MATRIZ = np.shape(5)\n",
    "\n",
    "pbar = ProgressBar()\n",
    "\n",
    "for i,j in zip(flist, pbar(range(len(flist)))):\n",
    "    ds = netCDF4.Dataset(i) # abrindo cada dataset\n",
    "    pr = ds.variables['pr'] # Acessando a variável 'pr'\n",
    "    #print('OLHAAAAAA: ', pr)\n",
    "    #pr_n = pr.sel(longitude = slice(-50, -30), latitude = slice(-20, 10)) # slice em 'lat' e 'lon'\n",
    "    d.append(np.array(pr)) # adicionando cada 'array pr_n' a list\n",
    "    MTRAIZ = np.stack(d)\n",
    "    # concatenando todos os arrays contidos em 'd' ao longo de uma nova dimensão\n",
    "    pbar.update(j+1)"
   ]
  },
  {
   "cell_type": "markdown",
   "metadata": {},
   "source": [
    "array = [forecast][time][member][latitude][longitude]"
   ]
  },
  {
   "cell_type": "code",
   "execution_count": null,
   "metadata": {},
   "outputs": [],
   "source": []
  },
  {
   "cell_type": "code",
   "execution_count": null,
   "metadata": {},
   "outputs": [],
   "source": [
    "import xarray as xr\n",
    "import os\n",
    "\n",
    "prec = []\n",
    "\n",
    "for fp in flist:\n",
    "    if os.path.exists(fp):\n",
    "        hind = os.path.basename(fp)[23:27]\n",
    "        yy1 = os.path.basename(fp)[28:32]\n",
    "        mm1 = os.path.basename(fp)[32:34]\n",
    "        dd1 = os.path.basename(fp)[34:36]\n",
    "        yy2 = os.path.basename(fp)[37:41]\n",
    "        mm2 = os.path.basename(fp)[41:43]\n",
    "        dd2 = os.path.basename(fp)[43:45]\n",
    "        id0 = os.path.basename(fp)[46:48]\n",
    "        d = xr.open_dataset(fp)\n",
    "        s = d['pr']\n",
    "        p = s.sel(longitude=slice(-50, -30), latitude=slice(-20, 10))\n",
    "        #l = [hind, yy1, mm1, dd1, yy2, mm2, dd2, id0, p]\n",
    "        #print(hind, yy1, mm1, dd1, yy2, mm2, dd2, id0, p)\n",
    "        prec.append(p)"
   ]
  },
  {
   "cell_type": "code",
   "execution_count": null,
   "metadata": {},
   "outputs": [],
   "source": [
    "def plot_graphic(data, information, step_parallels, step_meridians, resolution_graphic, var):\n",
    "    '''\n",
    "    Função para plotagem de gráficos.\\n\n",
    "    Especificações dos parâmetros:\\n\n",
    "        data: Deve receber os dados que serão plotados, como por exemplo: \n",
    "            prec[0,[0,3,4]].mean(['member']) => Aqui iremos obter a Precipitação Média\\n\\t\\tentre os Membros 0,3 e 4.\\n\n",
    "        information: Deve receber as informações a serem mostradas no título do gráfico.\\n\n",
    "        step_parallels: A forma como será feito o espaçamento entre as linhas paralelas.\\n        \n",
    "        step_meridians: A forma como será feito o espaçamento entre as linhas meridianas.\\n\n",
    "        var: Booleano que decidirá se o gráfico será salvo.\n",
    "    '''\n",
    "    \n",
    "    m = Basemap(resolution = resolution_graphic, \n",
    "            llcrnrlon=longitude.min(),\n",
    "            urcrnrlon=longitude.max(),\n",
    "            llcrnrlat=latitude.min(),\n",
    "            urcrnrlat=latitude.max())\n",
    "    x, y = m(*np.meshgrid(longitude,latitude))\n",
    "    m.pcolormesh(x,y,data,shading='flat',cmap=plt.cm.jet)\n",
    "    m.colorbar(location='right', pad= '7%')\n",
    "    m.drawcoastlines(linewidth = 1.7)\n",
    "    m.drawstates(linewidth = 1.)\n",
    "    m.drawparallels(np.arange(y.min(),y.max(),step_parallels),labels=[1,0,0,0])\n",
    "    m.drawmeridians(np.arange(x.min(),x.max(),step_meridians),labels=[0,0,0,1])\n",
    "    plt.xlabel('Longitude', labelpad = 30)\n",
    "    plt.ylabel('Latitude', labelpad = 35)\n",
    "    plt.title(information.upper(), pad = 15, linespacing = 1.3)\n",
    "    plt.rcParams['figure.figsize'] = (10,12)\n",
    "    \n",
    "    \n",
    "    if var == True:\n",
    "        number_figure = input('Digite o número da figura:\\n')\n",
    "        plt.savefig('figure{}.png'.format(number_figure))"
   ]
  },
  {
   "cell_type": "code",
   "execution_count": null,
   "metadata": {},
   "outputs": [],
   "source": []
  },
  {
   "cell_type": "code",
   "execution_count": null,
   "metadata": {},
   "outputs": [],
   "source": []
  },
  {
   "cell_type": "code",
   "execution_count": null,
   "metadata": {},
   "outputs": [],
   "source": []
  },
  {
   "cell_type": "code",
   "execution_count": null,
   "metadata": {},
   "outputs": [],
   "source": []
  },
  {
   "cell_type": "code",
   "execution_count": null,
   "metadata": {},
   "outputs": [],
   "source": []
  }
 ],
 "metadata": {
  "kernelspec": {
   "display_name": "Python 3",
   "language": "python",
   "name": "python3"
  },
  "language_info": {
   "codemirror_mode": {
    "name": "ipython",
    "version": 3
   },
   "file_extension": ".py",
   "mimetype": "text/x-python",
   "name": "python",
   "nbconvert_exporter": "python",
   "pygments_lexer": "ipython3",
   "version": "3.7.2"
  }
 },
 "nbformat": 4,
 "nbformat_minor": 2
}
