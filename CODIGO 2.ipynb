{
 "cells": [
  {
   "cell_type": "code",
   "execution_count": null,
   "metadata": {},
   "outputs": [],
   "source": [
    "from glob import glob\n",
    "import matplotlib.pyplot as plt\n",
    "import pandas as pd\n",
    "import numpy as np\n",
    "import xarray as xr\n",
    "import os\n",
    "from mpl_toolkits.basemap import Basemap\n",
    "import warnings\n",
    "import matplotlib.cbook\n",
    "warnings.filterwarnings(\"ignore\",category=matplotlib.cbook.mplDeprecation)\n",
    "plt.rcParams['figure.figsize'] = (10,12)\n",
    "from ipywidgets import interact"
   ]
  },
  {
   "cell_type": "code",
   "execution_count": null,
   "metadata": {},
   "outputs": [],
   "source": [
    "bdir = 'C:/Users/Bruno Silveira/Documents/Anaconda files program/ECMWF' # Diretório dos arquivos\n",
    "\n",
    "flist =[]\n",
    "\n",
    "for yy in range (1997,2018):\n",
    "    for mm in range(1,13):\n",
    "        mmfl = sorted(glob(bdir + '/' + str(yy) + '/' + str(mm) + '/' + '*.nc')) # Ordenando os arquivos por data\n",
    "        for fp in mmfl:\n",
    "            flist.append(fp) # Adicionando os arquivos na lista 'flist'"
   ]
  },
  {
   "cell_type": "code",
   "execution_count": null,
   "metadata": {},
   "outputs": [],
   "source": [
    "flist"
   ]
  },
  {
   "cell_type": "code",
   "execution_count": null,
   "metadata": {},
   "outputs": [],
   "source": [
    "dsfiles = xr.open_mfdataset(flist, engine ='netcdf4', concat_dim= 'fst', chunks= {'time': 46}) # Leitura dos arquivos"
   ]
  },
  {
   "cell_type": "code",
   "execution_count": null,
   "metadata": {},
   "outputs": [],
   "source": [
    "dsfiles"
   ]
  },
  {
   "cell_type": "code",
   "execution_count": null,
   "metadata": {},
   "outputs": [],
   "source": [
    "pr = dsfiles['pr'] # Acessando a 'Precipitação'\n",
    "prec_n = pr.sel(longitude=slice(-50, -30), latitude=slice(-20, 10)) # Selecionando a região do Nordeste\n",
    "#prec = pr\n",
    "prec_n"
   ]
  },
  {
   "cell_type": "code",
   "execution_count": null,
   "metadata": {},
   "outputs": [],
   "source": [
    "longitude = prec_n['longitude'][:]\n",
    "latitude = prec_n['latitude'][:]\n",
    "time = prec_n['time'][:]\n",
    "member = prec_n['member'][:]"
   ]
  },
  {
   "cell_type": "code",
   "execution_count": null,
   "metadata": {},
   "outputs": [],
   "source": [
    "def plot_graphic(data, information, step_parallels, step_meridians, resolution_graphic, var):\n",
    "    '''\n",
    "    Função para plotagem de gráficos.\\n\n",
    "    Especificações dos parâmetros:\\n\n",
    "        data: Deve receber os dados que serão plotados, como por exemplo: \n",
    "            prec[0,[0,3,4]].mean(['member']) => Aqui iremos obter a Precipitação Média\\n\\t\\tentre os Membros 0,3 e 4.\\n\n",
    "        information: Deve receber as informações a serem mostradas no título do gráfico.\\n\n",
    "        step_parallels: A forma como será feito o espaçamento entre as linhas paralelas.\\n        \n",
    "        step_meridians: A forma como será feito o espaçamento entre as linhas meridianas.\\n\n",
    "        var: Booleano que decidirá se o gráfico será salvo.\n",
    "    '''\n",
    "    \n",
    "    m = Basemap(resolution = resolution_graphic, \n",
    "            llcrnrlon=longitude.min(),\n",
    "            urcrnrlon=longitude.max(),\n",
    "            llcrnrlat=latitude.min(),\n",
    "            urcrnrlat=latitude.max())\n",
    "    x, y = m(*np.meshgrid(longitude,latitude))\n",
    "    m.pcolormesh(x,y,data,shading='flat',cmap=plt.cm.jet)\n",
    "    m.colorbar(location='right', pad= '7%')\n",
    "    m.drawcoastlines(linewidth = 1.7)\n",
    "    m.drawstates(linewidth = 1.)\n",
    "    m.drawparallels(np.arange(y.min(),y.max(),step_parallels),labels=[1,0,0,0])\n",
    "    m.drawmeridians(np.arange(x.min(),x.max(),step_meridians),labels=[0,0,0,1])\n",
    "    plt.xlabel('Longitude', labelpad = 30)\n",
    "    plt.ylabel('Latitude', labelpad = 35)\n",
    "    plt.title(information.upper(), pad = 15, linespacing = 1.3)\n",
    "    plt.rcParams['figure.figsize'] = (10,12)\n",
    "    \n",
    "    \n",
    "    if var == True:\n",
    "        number_figure = input('Digite o número da figura:\\n')\n",
    "        plt.savefig('figure{}.png'.format(number_figure))"
   ]
  },
  {
   "cell_type": "code",
   "execution_count": null,
   "metadata": {},
   "outputs": [],
   "source": [
    "plot_graphic(prec_n[3,:7,:].sum('time').mean('member'),\n",
    "             'média entre todos os membros: Acumulado de 7 dias\\n (1997-10-02T12:00:00 -- 1997-10-08T12:00:00)'\n",
    "             , 2, 2,'i', False)"
   ]
  },
  {
   "cell_type": "code",
   "execution_count": null,
   "metadata": {},
   "outputs": [],
   "source": [
    "plot_graphic(prec_n[0,:7,:].sum('time').std('member'),\n",
    "             'devio padrão entre todos os membros: Acumulado de 7 dias\\n (1997-10-02T12:00:00 -- 1997-10-08T12:00:00)'\n",
    "             , 2, 2,'i', False)"
   ]
  },
  {
   "cell_type": "code",
   "execution_count": null,
   "metadata": {},
   "outputs": [],
   "source": []
  },
  {
   "cell_type": "code",
   "execution_count": null,
   "metadata": {},
   "outputs": [],
   "source": []
  },
  {
   "cell_type": "code",
   "execution_count": null,
   "metadata": {},
   "outputs": [],
   "source": []
  },
  {
   "cell_type": "code",
   "execution_count": null,
   "metadata": {},
   "outputs": [],
   "source": []
  },
  {
   "cell_type": "code",
   "execution_count": null,
   "metadata": {},
   "outputs": [],
   "source": []
  },
  {
   "cell_type": "code",
   "execution_count": null,
   "metadata": {},
   "outputs": [],
   "source": []
  },
  {
   "cell_type": "code",
   "execution_count": null,
   "metadata": {},
   "outputs": [],
   "source": []
  },
  {
   "cell_type": "code",
   "execution_count": null,
   "metadata": {},
   "outputs": [],
   "source": []
  },
  {
   "cell_type": "code",
   "execution_count": null,
   "metadata": {},
   "outputs": [],
   "source": []
  },
  {
   "cell_type": "code",
   "execution_count": null,
   "metadata": {},
   "outputs": [],
   "source": []
  },
  {
   "cell_type": "code",
   "execution_count": null,
   "metadata": {},
   "outputs": [],
   "source": []
  },
  {
   "cell_type": "code",
   "execution_count": null,
   "metadata": {},
   "outputs": [],
   "source": []
  },
  {
   "cell_type": "code",
   "execution_count": null,
   "metadata": {},
   "outputs": [],
   "source": []
  },
  {
   "cell_type": "code",
   "execution_count": null,
   "metadata": {},
   "outputs": [],
   "source": []
  },
  {
   "cell_type": "code",
   "execution_count": null,
   "metadata": {},
   "outputs": [],
   "source": []
  }
 ],
 "metadata": {
  "kernelspec": {
   "display_name": "Python 3",
   "language": "python",
   "name": "python3"
  },
  "language_info": {
   "codemirror_mode": {
    "name": "ipython",
    "version": 3
   },
   "file_extension": ".py",
   "mimetype": "text/x-python",
   "name": "python",
   "nbconvert_exporter": "python",
   "pygments_lexer": "ipython3",
   "version": "3.6.4"
  }
 },
 "nbformat": 4,
 "nbformat_minor": 2
}
